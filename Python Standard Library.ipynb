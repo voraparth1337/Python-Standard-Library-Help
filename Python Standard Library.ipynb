{
 "cells": [
  {
   "cell_type": "markdown",
   "metadata": {},
   "source": [
    "# [Python Standard Library](https://docs.python.org/3.4/library/)\n",
    "\n",
    "### Terminology\n",
    "\n",
    "Module - smallest unit of code reusability\n",
    "File containing Python definitions and statements\n",
    "\n",
    "Package - logical collection of modules\n",
    "Often bundles large products and broad functionality\n",
    "\n",
    "Standard Library - collection of packages and modules\n",
    "Distributed with Python by default\n",
    "\n",
    "Script - Any Python code invoked as an executable\n",
    "Usually from the command line\n",
    "\n",
    "### Importing from a module\n",
    "\n",
    "```python\n",
    "# Import a module\n",
    "import math\n",
    "math.sqrt(16) # => 4\n",
    "\n",
    "# Import symbols from a module into the local namespace\n",
    "from math import ceil, floor\n",
    "ceil(3.7)   # => 4.0\n",
    "floor(3.7)  # => 3.0\n",
    "\n",
    "# Bind a module symbols to a new local symbol\n",
    "from some_module import long_symbol_name as short_name\n",
    "\n",
    "# Any python file (including your own) can be a module\n",
    "from my_script import my_function, my_variable\n",
    "```\n",
    "\n",
    "### Packages\n",
    "\n",
    "Packages give structure to modules\n",
    "\n",
    "sound/\n",
    "├── __init__.py\n",
    "├── effects/\n",
    "│\n",
    "├── __init__.py\n",
    "│\n",
    "├── echo.py\n",
    "│\n",
    "├── reverse.py\n",
    "│\n",
    "└── surround.py\n",
    "├── filters/\n",
    "│\n",
    "├── __init__.py\n",
    "│\n",
    "├── equalizer.py\n",
    "│\n",
    "├── karaoke.py\n",
    "│\n",
    "└── vocoder.py\n",
    "└── formats/\n",
    "├── __init__.py\n",
    "├── aiffread.py\n",
    "├── aiffwrite.py\n",
    "├── auread.py\n",
    "├── auwrite.py\n",
    "├── wavread.py\n",
    "└── wavwrite.py\n",
    "\n",
    "```python\n",
    "__init__.py # distinguishes packages from normal directories\n",
    "``` \n",
    "\n",
    "### Import Conventions\n",
    "Imports go at the top of the file after header comment.\n",
    "Why? Clear dependencies, avoid conditional imports.\n",
    "\n",
    "Prefer import ... instead of from ... import ...\n",
    "Why? Explicit namespaces avoid name conflicts.\n",
    "\n",
    "Avoid from ... import *\n",
    "Why? Unclear what is being imported, strange behavior.\n",
    "\n",
    "### Searching \"Algorithm\"\n",
    "if builtin module exists:\n",
    "    \n",
    "    load builtin module\n",
    "    \n",
    "else:\n",
    "    \n",
    "    look for builtin module in the current directory of script\n",
    "    \n",
    "    look through PYTHONPATH\n",
    "    \n",
    "    look in installation default\n",
    "    \n",
    "    load if found, else raise ImportError\n"
   ]
  },
  {
   "cell_type": "markdown",
   "metadata": {},
   "source": [
    "## Some built-in modules\n"
   ]
  },
  {
   "cell_type": "markdown",
   "metadata": {},
   "source": [
    "### collections.namedtuple"
   ]
  },
  {
   "cell_type": "code",
   "execution_count": 14,
   "metadata": {},
   "outputs": [
    {
     "name": "stdout",
     "output_type": "stream",
     "text": [
      "(1, 3)\n",
      "3\n",
      "Point(x=1, y=2)\n",
      "1\n",
      "1 2\n"
     ]
    }
   ],
   "source": [
    "# Collectins module - containter datatypes\n",
    "\n",
    "import collections\n",
    "\n",
    "Point = collections.namedtuple('Point', ['x', 'y']) # returns a new tuple subclass called point\n",
    "# second argument is field name x and y\n",
    "\n",
    "# oringinally\n",
    "x = tuple([1,3])\n",
    "print(x)\n",
    "\n",
    "# using named tuple\n",
    "p = Point(1,2)\n",
    "\n",
    "# or\n",
    "\n",
    "p = Point(1,y = 2)\n",
    "\n",
    "print(p.x+p.y)\n",
    "\n",
    "print(p)\n",
    "\n",
    "# subscriptable\n",
    "print(p[0])\n",
    "\n",
    "# unpack like normal tuples\n",
    "x,y = p\n",
    "print(str(x)+ ' '+str(y))"
   ]
  },
  {
   "cell_type": "markdown",
   "metadata": {},
   "source": [
    "#### Example usage\n",
    "\n",
    "```python\n",
    "\n",
    "Color = collections.namedtuple(\"Color\",[\"hue\", \"saturation\", \"luminosity\"])\n",
    "pixel = Color(170, 0.1, 0.6)\n",
    "if pixel.saturation >= 0.5:\n",
    "    print(\"Whew, that is bright!\")\n",
    "if pixel.luminosity >= 0.5:\n",
    "    print(\"Wow, that is light!\")\n",
    "```"
   ]
  },
  {
   "cell_type": "markdown",
   "metadata": {},
   "source": [
    "### collections.defaultdict\n",
    "dict subclass with factory function for missing values\n"
   ]
  },
  {
   "cell_type": "code",
   "execution_count": 17,
   "metadata": {},
   "outputs": [
    {
     "name": "stdout",
     "output_type": "stream",
     "text": [
      "{'yellow': [1, 3], 'blue': [2, 4], 'red': [1]}\n",
      "defaultdict(<function <lambda> at 0x7fa42c484158>, {'yellow': [1, 3], 'blue': [2, 4], 'red': [1]})\n"
     ]
    }
   ],
   "source": [
    "# Have:\n",
    "input_data = [('yellow', 1), ('blue', 2),\n",
    "('yellow', 3), ('blue', 4), ('red', 1)]\n",
    "\n",
    "# Want:\n",
    "output = {'blue': [2, 4], 'red': [1], 'yellow': [1, 3]}\n",
    "\n",
    "# One approach\n",
    "output = {}\n",
    "for k, v in input_data:\n",
    "    if k not in output:\n",
    "        output[k] = []\n",
    "    output[k].append(v)\n",
    "\n",
    "print(output)\n",
    "# => {'blue': [2, 4], 'red': [1], 'yellow': [1, 3]}\n",
    "\n",
    "# A better approach\n",
    "output = collections.defaultdict(lambda: list()) \n",
    "# accepts one argument - a zero-argument factory function to supply missing keys\n",
    "\n",
    "for k, v in input_data:\n",
    "    # When key is missing, go to the factory\n",
    "    output[k].append(v)\n",
    "\n",
    "print(output)"
   ]
  },
  {
   "cell_type": "markdown",
   "metadata": {},
   "source": [
    "### collections.Counter\n",
    "\n",
    "dict subclass for counting hashable objects"
   ]
  },
  {
   "cell_type": "code",
   "execution_count": null,
   "metadata": {
    "collapsed": true
   },
   "outputs": [],
   "source": [
    "# Have: s = 'mississippi'\n",
    "\n",
    "# Want: [('s', 4), ('m', 1), ('i', 4), ('p', 2)]\n",
    "\n",
    "s = 'mississippi'\n",
    "\n",
    "count = collections.Counter(s)\n",
    "\n",
    "print(count)\n",
    "# => Counter({'i': 4, 'm': 1, 'p': 2, 's': 4})\n",
    "\n",
    "print(list(count.items()))\n",
    "# => [('s', 4), ('m', 1), ('i', 4), ('p', 2)]\n",
    "\n",
    "# Tally occurrences of words in a list\n",
    "colors = ['red', 'blue', 'red', 'green', 'blue']\n",
    "\n",
    "# One approach\n",
    "counter = collections.Counter()\n",
    "\n",
    "for color in colors:\n",
    "    counter[color] += 1\n",
    "print(counter)\n",
    "# Counter({'blue': 2, 'green': 1, 'red': 2})\n",
    "\n",
    "# A better approach\n",
    "counter = collections.Counter(colors)\n",
    "print(counter)\n",
    "# Counter({'blue': 2, 'green': 1, 'red': 2})"
   ]
  },
  {
   "cell_type": "code",
   "execution_count": 18,
   "metadata": {},
   "outputs": [
    {
     "data": {
      "text/plain": [
       "[('a', 5), ('b', 2), ('r', 2)]"
      ]
     },
     "execution_count": 18,
     "metadata": {},
     "output_type": "execute_result"
    }
   ],
   "source": [
    "# to get most common element\n",
    "\n",
    "collections.Counter('abracadabra').most_common(3)\n",
    "# gives us top three most common !"
   ]
  },
  {
   "cell_type": "code",
   "execution_count": 20,
   "metadata": {},
   "outputs": [
    {
     "data": {
      "text/plain": [
       "Counter({'c': 2, 'h': 3, 'i': 2, 't': 1, 'w': 2})"
      ]
     },
     "execution_count": 20,
     "metadata": {},
     "output_type": "execute_result"
    }
   ],
   "source": [
    "# Supports basic arithmetic\n",
    "collections.Counter('which') + collections.Counter('witch')"
   ]
  },
  {
   "cell_type": "code",
   "execution_count": 21,
   "metadata": {},
   "outputs": [
    {
     "data": {
      "text/plain": [
       "Counter({'a': 1, 'b': 2, 'c': 1, 'd': 1, 'r': 2})"
      ]
     },
     "execution_count": 21,
     "metadata": {},
     "output_type": "execute_result"
    }
   ],
   "source": [
    "collections.Counter('abracadabra') - collections.Counter('alakazam')"
   ]
  },
  {
   "cell_type": "markdown",
   "metadata": {},
   "source": [
    "### re \n",
    "Regular expression operations"
   ]
  },
  {
   "cell_type": "code",
   "execution_count": 23,
   "metadata": {
    "collapsed": true
   },
   "outputs": [],
   "source": [
    "# Search for pattern match anywhere in string; return None if not found\n",
    "import re\n",
    "\n",
    "m = re.search(r\"(\\w+) (\\w+)\", \"Physicist Isaac Newton\")"
   ]
  },
  {
   "cell_type": "code",
   "execution_count": 24,
   "metadata": {},
   "outputs": [
    {
     "data": {
      "text/plain": [
       "'Physicist Isaac'"
      ]
     },
     "execution_count": 24,
     "metadata": {},
     "output_type": "execute_result"
    }
   ],
   "source": [
    "m.group(0) # \"Isaac Newton\" - the entire match"
   ]
  },
  {
   "cell_type": "code",
   "execution_count": 25,
   "metadata": {},
   "outputs": [
    {
     "data": {
      "text/plain": [
       "'Physicist'"
      ]
     },
     "execution_count": 25,
     "metadata": {},
     "output_type": "execute_result"
    }
   ],
   "source": [
    "m.group(1) # \"Isaac\" - first parenthesized subgroup"
   ]
  },
  {
   "cell_type": "code",
   "execution_count": 26,
   "metadata": {},
   "outputs": [
    {
     "data": {
      "text/plain": [
       "'Isaac'"
      ]
     },
     "execution_count": 26,
     "metadata": {},
     "output_type": "execute_result"
    }
   ],
   "source": [
    "m.group(2) # \"Newton\" - second parenthesized subgroup"
   ]
  },
  {
   "cell_type": "code",
   "execution_count": 27,
   "metadata": {
    "collapsed": true
   },
   "outputs": [],
   "source": [
    "m = re.match(r\"(?P<fname>\\w+) (?P<lname>\\w+)\", \"Malcolm Reynolds\")"
   ]
  },
  {
   "cell_type": "code",
   "execution_count": 29,
   "metadata": {},
   "outputs": [
    {
     "data": {
      "text/plain": [
       "'Reynolds'"
      ]
     },
     "execution_count": 29,
     "metadata": {},
     "output_type": "execute_result"
    }
   ],
   "source": [
    "m.group('lname') # => 'Reynolds'"
   ]
  },
  {
   "cell_type": "code",
   "execution_count": 28,
   "metadata": {},
   "outputs": [
    {
     "data": {
      "text/plain": [
       "'Malcolm'"
      ]
     },
     "execution_count": 28,
     "metadata": {},
     "output_type": "execute_result"
    }
   ],
   "source": [
    "m.group('fname') # => 'Malcolm'"
   ]
  },
  {
   "cell_type": "code",
   "execution_count": 31,
   "metadata": {},
   "outputs": [
    {
     "data": {
      "text/plain": [
       "'sam@stanford.edu poohbear@stanford.edu'"
      ]
     },
     "execution_count": 31,
     "metadata": {},
     "output_type": "execute_result"
    }
   ],
   "source": [
    "# Substitute occurrences of one pattern with another\n",
    "# First arguement is the regex, second is replacement pattern and third is the input string.\n",
    "\n",
    "re.sub(r'@\\w+\\.com', '@stanford.edu', 'sam@go.com poohbear@bears.com')\n"
   ]
  },
  {
   "cell_type": "code",
   "execution_count": 37,
   "metadata": {},
   "outputs": [
    {
     "data": {
      "text/plain": [
       "(3, 9)"
      ]
     },
     "execution_count": 37,
     "metadata": {},
     "output_type": "execute_result"
    }
   ],
   "source": [
    "# {3} matches 3 consecutive occurences \n",
    "pattern = re.compile(r'[a-z]+[0-9]{3}') # compile pattern for fast ops\n",
    "\n",
    "match = re.search(pattern, '@@@abc123') # pattern is first argument\n",
    "\n",
    "# returns the first and last index of the string pattern matched\n",
    "match.span()"
   ]
  },
  {
   "cell_type": "markdown",
   "metadata": {
    "collapsed": true
   },
   "source": [
    "### Itertoops\n",
    "iterators for efficient looping"
   ]
  },
  {
   "cell_type": "code",
   "execution_count": 2,
   "metadata": {},
   "outputs": [
    {
     "name": "stdout",
     "output_type": "stream",
     "text": [
      "AE AF AG AH BE BF BG BH CE CF CG CH DE DF DG DH\n"
     ]
    }
   ],
   "source": [
    "import itertools\n",
    "def view(it): \n",
    "    print(*[''.join(els) for els in it])\n",
    "\n",
    "# cross product of two string or all combinations, like a crossproduct\n",
    "view(itertools.product('ABCD', 'EFGH'))"
   ]
  },
  {
   "cell_type": "code",
   "execution_count": 3,
   "metadata": {},
   "outputs": [
    {
     "name": "stdout",
     "output_type": "stream",
     "text": [
      "AA AB AC AD BA BB BC BD CA CB CC CD DA DB DC DD\n"
     ]
    }
   ],
   "source": [
    "# cross product with itself twice, which is mentioned using repeat keyword\n",
    "view(itertools.product('ABCD', repeat=2))"
   ]
  },
  {
   "cell_type": "code",
   "execution_count": 7,
   "metadata": {},
   "outputs": [
    {
     "name": "stdout",
     "output_type": "stream",
     "text": [
      "AB AC AD BA BC BD CA CB CD DA DB DC\n"
     ]
    }
   ],
   "source": [
    "# 2 length permuations of ABCD, pair of one with everything else, except itself\n",
    "view(itertools.permutations('ABCD', 2))"
   ]
  },
  {
   "cell_type": "code",
   "execution_count": 11,
   "metadata": {},
   "outputs": [
    {
     "name": "stdout",
     "output_type": "stream",
     "text": [
      "AB AC AD BC BD CD\n"
     ]
    }
   ],
   "source": [
    "# 2 length combinations of ABCD\n",
    "view(itertools.combinations('ABCD', 2))"
   ]
  },
  {
   "cell_type": "code",
   "execution_count": 9,
   "metadata": {},
   "outputs": [
    {
     "name": "stdout",
     "output_type": "stream",
     "text": [
      "AA AB AC AD BB BC BD CC CD DD\n"
     ]
    }
   ],
   "source": [
    "# 2 length combinations with each element with itself also included\n",
    "view(itertools.combinations_with_replacement('ABCD', 2))"
   ]
  },
  {
   "cell_type": "markdown",
   "metadata": {},
   "source": [
    "### Infinite Iterators"
   ]
  },
  {
   "cell_type": "code",
   "execution_count": 17,
   "metadata": {},
   "outputs": [
    {
     "data": {
      "text/plain": [
       "repeat(10)"
      ]
     },
     "execution_count": 17,
     "metadata": {},
     "output_type": "execute_result"
    }
   ],
   "source": [
    "# start, [step] -> start, start + step, ...\n",
    "itertools.count(10)\n",
    "# -> 10, 11, 12, 13, 14, ...\n",
    "\n",
    "# Cycle through elements of an iterable\n",
    "itertools.cycle('ABC')\n",
    "# -> 'A', 'B', 'C', 'A', ...\n",
    "\n",
    "# Repeat a single element over and over. Can have a second arguement as number of times we want to repeat the object\n",
    "itertools.repeat(10)\n",
    "# -> 10, 10, 10, 10, ..."
   ]
  },
  {
   "cell_type": "markdown",
   "metadata": {},
   "source": [
    "### json\n",
    "JSON encoder and decoder"
   ]
  },
  {
   "cell_type": "code",
   "execution_count": null,
   "metadata": {},
   "outputs": [],
   "source": [
    "import json\n",
    "# json — JSON encoder and decoder\n",
    "\n",
    "\n",
    "squares = {1:1, 2:4, 3:9, 4:16}\n",
    "\n",
    "# Serialize to/from string\n",
    "output = json.dumps(squares)\n",
    "# output == \"{1:1, 2:4, 3:9, 4:16}\"\n",
    "\n",
    "# decode\n",
    "json.loads(output)\n",
    "# => {1:1, 2:4, 3:9, 4:16}json — JSON encoder and decoder\n",
    "\n",
    "# Serialize to/from file\n",
    "with open('tmp.json', 'w') as outfile:\n",
    "    # data, file_name\n",
    "    json.dump(squares, outfile)\n",
    "with open('tmp.json', 'r') as infile:\n",
    "    # var = json.load(file_name)\n",
    "    input = json.load(infile)"
   ]
  },
  {
   "cell_type": "code",
   "execution_count": 20,
   "metadata": {},
   "outputs": [
    {
     "name": "stdout",
     "output_type": "stream",
     "text": [
      "{\n",
      "    \"6\": 7,\n",
      "    \"9\": 5\n",
      "}\n"
     ]
    }
   ],
   "source": [
    "import json\n",
    "\n",
    "# json.dumps is used for encoding\n",
    "# first argument is the data, mostly a dict\n",
    "# sort_keys=True, sorts it on the key values , OFCOURSE !\n",
    "# indent=4, makes it look neat\n",
    "print(json.dumps({'9': 5, '6': 7}, sort_keys=True, indent=4))"
   ]
  },
  {
   "cell_type": "markdown",
   "metadata": {},
   "source": [
    "### random\n",
    "Generate pseudo-random numbers"
   ]
  },
  {
   "cell_type": "code",
   "execution_count": 21,
   "metadata": {},
   "outputs": [
    {
     "data": {
      "text/plain": [
       "0.36041554833156053"
      ]
     },
     "execution_count": 21,
     "metadata": {},
     "output_type": "execute_result"
    }
   ],
   "source": [
    "import random\n",
    "# Random float x with 0.0 <= x < 1.0\n",
    "random.random() \n"
   ]
  },
  {
   "cell_type": "code",
   "execution_count": 40,
   "metadata": {},
   "outputs": [
    {
     "data": {
      "text/plain": [
       "2.3100830262031975"
      ]
     },
     "execution_count": 40,
     "metadata": {},
     "output_type": "execute_result"
    }
   ],
   "source": [
    "# Random float x, 1.0 <= x < 10.0\n",
    "random.uniform(1, 10)"
   ]
  },
  {
   "cell_type": "code",
   "execution_count": 23,
   "metadata": {},
   "outputs": [
    {
     "data": {
      "text/plain": [
       "4"
      ]
     },
     "execution_count": 23,
     "metadata": {},
     "output_type": "execute_result"
    }
   ],
   "source": [
    "# Random integer from 1 to 6 (inclusive)\n",
    "random.randint(1, 6) "
   ]
  },
  {
   "cell_type": "code",
   "execution_count": 24,
   "metadata": {},
   "outputs": [
    {
     "data": {
      "text/plain": [
       "1"
      ]
     },
     "execution_count": 24,
     "metadata": {},
     "output_type": "execute_result"
    }
   ],
   "source": [
    "# Random integer from 0 to 9 (inclusive)\n",
    "random.randrange(10)"
   ]
  },
  {
   "cell_type": "code",
   "execution_count": 25,
   "metadata": {},
   "outputs": [
    {
     "data": {
      "text/plain": [
       "94"
      ]
     },
     "execution_count": 25,
     "metadata": {},
     "output_type": "execute_result"
    }
   ],
   "source": [
    "# Random even integer from 0 to 100 (inclusive)\n",
    "random.randrange(0, 101, 2) "
   ]
  },
  {
   "cell_type": "code",
   "execution_count": 41,
   "metadata": {},
   "outputs": [
    {
     "data": {
      "text/plain": [
       "'a'"
      ]
     },
     "execution_count": 41,
     "metadata": {},
     "output_type": "execute_result"
    }
   ],
   "source": [
    "# Choose a single element\n",
    "random.choice('abcdefghij')"
   ]
  },
  {
   "cell_type": "code",
   "execution_count": 42,
   "metadata": {},
   "outputs": [
    {
     "data": {
      "text/plain": [
       "[4, 1, 5, 7, 3, 6, 2]"
      ]
     },
     "execution_count": 42,
     "metadata": {},
     "output_type": "execute_result"
    }
   ],
   "source": [
    "items = [1, 2, 3, 4, 5, 6, 7]\n",
    "random.shuffle(items)\n",
    "items"
   ]
  },
  {
   "cell_type": "code",
   "execution_count": 43,
   "metadata": {},
   "outputs": [
    {
     "data": {
      "text/plain": [
       "[3, 2, 1]"
      ]
     },
     "execution_count": 43,
     "metadata": {},
     "output_type": "execute_result"
    }
   ],
   "source": [
    "# k samples without replacement\n",
    "random.sample(range(5), k=3)"
   ]
  },
  {
   "cell_type": "code",
   "execution_count": 44,
   "metadata": {},
   "outputs": [
    {
     "data": {
      "text/plain": [
       "1.9074103832871185"
      ]
     },
     "execution_count": 44,
     "metadata": {},
     "output_type": "execute_result"
    }
   ],
   "source": [
    "# Sample from statistical distributions (others exist)\n",
    "random.normalvariate(mu=0, sigma=3) "
   ]
  },
  {
   "cell_type": "markdown",
   "metadata": {},
   "source": [
    "### sys\n",
    "System-specific parameters and functions."
   ]
  },
  {
   "cell_type": "code",
   "execution_count": null,
   "metadata": {},
   "outputs": [],
   "source": [
    "import sys\n",
    "# Open file objects for standard input, error, output\n",
    "sys.stdin ('r') \n",
    "sys.stderr ('w') \n",
    "sys.stdout ('w')\n",
    "\n",
    "sys.stdin.readline()\n",
    "sys.stderr.write('hello world\\n')\n",
    "sys.stdout.flush()\n",
    "\n",
    "# Raise SystemExit\n",
    "sys.exit(arg)"
   ]
  },
  {
   "cell_type": "markdown",
   "metadata": {},
   "source": [
    "### What if we want to do something like...\n",
    "```bash\n",
    "$ python3 -i demo.py <arguments>\n",
    "```"
   ]
  },
  {
   "cell_type": "markdown",
   "metadata": {},
   "source": [
    "```python\n",
    "# File: demo.py\n",
    "if __name__ == '__main__':\n",
    "import sys\n",
    "print(sys.argv)\n",
    "———————————————————————————\n",
    "$ python3 demo.py 1 2 3\n",
    "['demo.py', '1', '2', '3']\n",
    "```"
   ]
  },
  {
   "cell_type": "markdown",
   "metadata": {},
   "source": [
    "### subprocess\n",
    "```python\n",
    "subprocess.call([\"ls\", \"-l\"])\n",
    "```"
   ]
  },
  {
   "cell_type": "code",
   "execution_count": null,
   "metadata": {
    "collapsed": true
   },
   "outputs": [],
   "source": [
    "# For more complex needs, use Popen\n",
    "# Emulate 'ps aux | grep Spotify'\n",
    "\n",
    "sp_ps = subprocess.Popen([\"ps\", \"aux\"], stdout=subprocess.PIPE)\n",
    "sp_grep = subprocess.Popen([\"grep\", \"Spotify\"], stdin=sp_ps.stdout)"
   ]
  },
  {
   "cell_type": "markdown",
   "metadata": {},
   "source": [
    "### pprint\n",
    "Helps prints horrible data structures"
   ]
  },
  {
   "cell_type": "code",
   "execution_count": 59,
   "metadata": {},
   "outputs": [
    {
     "name": "stdout",
     "output_type": "stream",
     "text": [
      "Normal Printing\n",
      "{'data': {'after': 't3_3q8aog', 'before': None, 'kind': 'pagination', 'children': [{'a': 1}, {'a': 2}, {'b': 1}, {}], 'uuid': '40b6f818'}}\n",
      "\n",
      "\n",
      "Using pprint\n",
      "{'data': {'after': 't3_3q8aog',\n",
      "          'before': None,\n",
      "          'children': [{'a': 1}, {'a': 2}, {'b': 1}, {}],\n",
      "          'kind': 'pagination',\n",
      "          'uuid': '40b6f818'}}\n"
     ]
    }
   ],
   "source": [
    "import pprint\n",
    "\n",
    "ugly = {\n",
    "'data': {\n",
    "'after': 't3_3q8aog',\n",
    "'before': None,\n",
    "'kind': 'pagination',\n",
    "'children': [{'a':1}, {'a':2}, {'b':1}, {}],\n",
    "'uuid': '40b6f818'\n",
    "}\n",
    "}\n",
    "\n",
    "print('Normal Printing')\n",
    "print(ugly)\n",
    "print('\\n')\n",
    "print('Using pprint')\n",
    "pprint.pprint(ugly, width=64, depth=4)\n"
   ]
  },
  {
   "cell_type": "markdown",
   "metadata": {},
   "source": [
    "### timeit\n",
    "time short snippets\n",
    "\n",
    "Command line interface\n",
    "```bash\n",
    "$ python3 -m timeit '\"-\".join(str(n) for n in range(100))'\n",
    "10000 loops, best of 3: 30.2 usec per loop\n",
    "$ python3 -m timeit '\"-\".join([str(n) for n in range(100)])'\n",
    "10000 loops, best of 3: 27.5 usec per loop\n",
    "$ python3 -m timeit '\"-\".join(map(str, range(100)))'\n",
    "10000 loops, best of 3: 23.2 usec per loop\n",
    "```"
   ]
  },
  {
   "cell_type": "code",
   "execution_count": 60,
   "metadata": {},
   "outputs": [
    {
     "data": {
      "text/plain": [
       "0.17823075400065136"
      ]
     },
     "execution_count": 60,
     "metadata": {},
     "output_type": "execute_result"
    }
   ],
   "source": [
    "# Python Interface\n",
    "import timeit\n",
    "timeit.timeit('\"-\".join(str(n) for n in range(100))', number=10000)\n",
    "# => 0.3018611848820001\n",
    "timeit.timeit('\"-\".join([str(n) for n in range(100)])', number=10000)\n",
    "# => 0.2727368790656328\n",
    "timeit.timeit('\"-\".join(map(str, range(100)))', number=10000)\n",
    "# => 0.23702679807320237"
   ]
  },
  {
   "cell_type": "markdown",
   "metadata": {},
   "source": [
    "### unicodedata\n",
    "Unicode database"
   ]
  },
  {
   "cell_type": "code",
   "execution_count": 62,
   "metadata": {},
   "outputs": [
    {
     "data": {
      "text/plain": [
       "'🍕'"
      ]
     },
     "execution_count": 62,
     "metadata": {},
     "output_type": "execute_result"
    }
   ],
   "source": [
    "import unicodedata\n",
    "unicodedata.lookup('SLICE OF PIZZA')"
   ]
  },
  {
   "cell_type": "code",
   "execution_count": 65,
   "metadata": {},
   "outputs": [
    {
     "data": {
      "text/plain": [
       "'OK HAND SIGN'"
      ]
     },
     "execution_count": 65,
     "metadata": {},
     "output_type": "execute_result"
    }
   ],
   "source": [
    "unicodedata.name('👌')"
   ]
  },
  {
   "cell_type": "markdown",
   "metadata": {},
   "source": [
    "### common expressions\n",
    "```python\n",
    "any([True, True, False]) # => True\n",
    "all([True, True, False]) # => False\n",
    "\n",
    "int('45')                # => 45\n",
    "\n",
    "# number and base\n",
    "int('0x2a', 16)          # => 42\n",
    "int('1011', 2)           # => 11\n",
    "\n",
    "hex(42)                  # => '0x2a'\n",
    "bin(42)                  # => '0b101010' \n",
    "\n",
    "ord('a') # => 97\n",
    "chr(97)  # => 'a'\n",
    "\n",
    "round(123.45, 1)\n",
    "round(123.45, -2) # => 123.4\n",
    "\n",
    "max(2, 3) # => 3\n",
    "max([0, 4, 1]) # => 4\n",
    "min(['apple', 'banana', 'pear'], key=len)\n",
    "\n",
    "sum([3, 5, 7]) # => 15\n",
    "\n",
    "pow(3, 5)      # => 243 (= 3 ** 5)\n",
    "pow(3, 5, 10)  # => 3 (= (3 ** 5) % 10, efficiently)\n",
    "\n",
    "quotient, remainder = divmod(10, 6)\n",
    "# quotient, remainder => (1, 4)\n",
    "\n",
    "# Flatten a list of lists (slower than itertools.chain)\n",
    "sum([[3, 5], [1, 7], [4]], []) # => [3, 5, 1, 7, 4]\n",
    "```"
   ]
  },
  {
   "cell_type": "markdown",
   "metadata": {},
   "source": [
    "### Other Modules\n",
    "\n",
    "6.1. string — Common string operations\n",
    "\n",
    "7.1. struct — Interpret bytes as packed binary data\n",
    "\n",
    "8.1. datetime — Basic date and time types\n",
    "\n",
    "9.5. fractions — Rational numbers\n",
    "\n",
    "9.7. statistics — Mathematical statistics functions\n",
    "\n",
    "10.3. operator — Standard operators as functions\n",
    "\n",
    "12.1. pickle — Python object serialization\n",
    "\n",
    "14.1. csv — CSV File Reading and Writing\n",
    "\n",
    "16.1. os — Miscellaneous operating system interfaces\n",
    "\n",
    "16.3. time — Time access and conversions\n",
    "\n",
    "16.4. argparse — Parser for command-line options, arguments and sub-commands\n",
    "\n",
    "16.6. logging — Logging facility for Python\n",
    "\n",
    "17.1. threading — Thread-based parallelism\n",
    "\n",
    "17.2. multiprocessing — Process-based parallelism\n",
    "\n",
    "18.1. socket — Low-level networking interface\n",
    "\n",
    "18.5. asyncio – Asynchronous I/O, event loop, coroutines and tasks\n",
    "\n",
    "18.8. signal — Set handlers for asynchronous events\n",
    "\n",
    "26.3. unittest — Unit testing framework\n",
    "\n",
    "26.6. 2to3 - Automated Python 2 to 3 code translation\n",
    "\n",
    "27.3. pdb — The Python Debugger\n",
    "\n",
    "27.6. trace — Trace or track Python statement execution\n",
    "\n",
    "29.12. inspect — Inspect live objects"
   ]
  }
 ],
 "metadata": {
  "kernelspec": {
   "display_name": "Python 3",
   "language": "python",
   "name": "python3"
  },
  "language_info": {
   "codemirror_mode": {
    "name": "ipython",
    "version": 3
   },
   "file_extension": ".py",
   "mimetype": "text/x-python",
   "name": "python",
   "nbconvert_exporter": "python",
   "pygments_lexer": "ipython3",
   "version": "3.6.1"
  }
 },
 "nbformat": 4,
 "nbformat_minor": 2
}
